{
 "cells": [
  {
   "cell_type": "code",
   "execution_count": 2,
   "metadata": {},
   "outputs": [
    {
     "name": "stdout",
     "output_type": "stream",
     "text": [
      "                Province/State         Country/Region        Lat       Long  \\\n",
      "0                          NaN            Afghanistan  33.000000  65.000000   \n",
      "1                          NaN                Albania  41.153300  20.168300   \n",
      "2                          NaN                Algeria  28.033900   1.659600   \n",
      "3                          NaN                Andorra  42.506300   1.521800   \n",
      "4                          NaN                 Angola -11.202700  17.873900   \n",
      "..                         ...                    ...        ...        ...   \n",
      "259  Saint Pierre and Miquelon                 France  46.885200 -56.315900   \n",
      "260                        NaN            South Sudan   6.877000  31.307000   \n",
      "261                        NaN         Western Sahara  24.215500 -12.885800   \n",
      "262                        NaN  Sao Tome and Principe   0.186360   6.613081   \n",
      "263                        NaN                  Yemen  15.552727  48.516388   \n",
      "\n",
      "     1/22/20  1/23/20  1/24/20  1/25/20  1/26/20  1/27/20  ...  4/14/20  \\\n",
      "0          0        0        0        0        0        0  ...      714   \n",
      "1          0        0        0        0        0        0  ...      475   \n",
      "2          0        0        0        0        0        0  ...     2070   \n",
      "3          0        0        0        0        0        0  ...      659   \n",
      "4          0        0        0        0        0        0  ...       19   \n",
      "..       ...      ...      ...      ...      ...      ...  ...      ...   \n",
      "259        0        0        0        0        0        0  ...        1   \n",
      "260        0        0        0        0        0        0  ...        4   \n",
      "261        0        0        0        0        0        0  ...        6   \n",
      "262        0        0        0        0        0        0  ...        4   \n",
      "263        0        0        0        0        0        0  ...        1   \n",
      "\n",
      "     4/15/20  4/16/20  4/17/20  4/18/20  4/19/20  4/20/20  4/21/20  4/22/20  \\\n",
      "0        784      840      906      933      996     1026     1092     1176   \n",
      "1        494      518      539      548      562      584      609      634   \n",
      "2       2160     2268     2418     2534     2629     2718     2811     2910   \n",
      "3        673      673      696      704      713      717      717      723   \n",
      "4         19       19       19       24       24       24       24       25   \n",
      "..       ...      ...      ...      ...      ...      ...      ...      ...   \n",
      "259        1        1        1        1        1        1        1        1   \n",
      "260        4        4        4        4        4        4        4        4   \n",
      "261        6        6        6        6        6        6        6        6   \n",
      "262        4        4        4        4        4        4        4        4   \n",
      "263        1        1        1        1        1        1        1        1   \n",
      "\n",
      "     4/23/20  \n",
      "0       1279  \n",
      "1        663  \n",
      "2       3007  \n",
      "3        723  \n",
      "4         25  \n",
      "..       ...  \n",
      "259        1  \n",
      "260        5  \n",
      "261        6  \n",
      "262        4  \n",
      "263        1  \n",
      "\n",
      "[264 rows x 97 columns]\n"
     ]
    }
   ],
   "source": [
    "# https://github.com/CSSEGISandData/COVID-19\n",
    "# 全球/地區-國家/每日累積 確認 病例 (每日更新)\n",
    "# https://raw.githubusercontent.com/CSSEGISandData/COVID-19/master/csse_covid_19_data/csse_covid_19_time_series/time_series_covid19_confirmed_global.csv\n",
    "\n",
    "# 直接取用，做「資料梳理」\n",
    "import pandas as pd\n",
    "import matplotlib.pylab as plt\n",
    "\n",
    "download_url = 'https://raw.githubusercontent.com/CSSEGISandData/COVID-19/master/csse_covid_19_data/csse_covid_19_time_series/time_series_covid19_confirmed_global.csv'\n",
    "row = pd.read_csv(download_url, encoding = 'utf-8')\n",
    "\n",
    "print(row)"
   ]
  },
  {
   "cell_type": "code",
   "execution_count": null,
   "metadata": {},
   "outputs": [],
   "source": []
  }
 ],
 "metadata": {
  "kernelspec": {
   "display_name": "Python 3",
   "language": "python",
   "name": "python3"
  },
  "language_info": {
   "codemirror_mode": {
    "name": "ipython",
    "version": 3
   },
   "file_extension": ".py",
   "mimetype": "text/x-python",
   "name": "python",
   "nbconvert_exporter": "python",
   "pygments_lexer": "ipython3",
   "version": "3.7.6"
  }
 },
 "nbformat": 4,
 "nbformat_minor": 4
}
