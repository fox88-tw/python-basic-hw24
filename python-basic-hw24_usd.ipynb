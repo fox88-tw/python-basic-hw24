{
 "cells": [
  {
   "cell_type": "code",
   "execution_count": 1,
   "metadata": {},
   "outputs": [
    {
     "name": "stdout",
     "output_type": "stream",
     "text": [
      "Collecting selenium\n",
      "  Downloading selenium-3.141.0-py2.py3-none-any.whl (904 kB)\n",
      "\u001b[K     |████████████████████████████████| 904 kB 962 kB/s eta 0:00:01\n",
      "\u001b[?25hRequirement already satisfied: urllib3 in ./opt/anaconda3/lib/python3.7/site-packages (from selenium) (1.25.8)\n",
      "Installing collected packages: selenium\n",
      "Successfully installed selenium-3.141.0\n",
      "Note: you may need to restart the kernel to use updated packages.\n"
     ]
    }
   ],
   "source": [
    "pip install selenium"
   ]
  },
  {
   "cell_type": "code",
   "execution_count": 2,
   "metadata": {},
   "outputs": [],
   "source": [
    "from selenium import webdriver\n",
    "from selenium.webdriver.support.ui import Select\n",
    "from selenium.webdriver.common.keys import Keys\n",
    "import time\n",
    "from bs4 import BeautifulSoup\n",
    "\n",
    "\n",
    "#初始化啟動chrome webdriver\n",
    "driverpath = './chromedriver' #瀏覽器驅動程式路徑\n",
    "browser = webdriver.Chrome(executable_path = driverpath) #模擬瀏覽器\n",
    "url = 'https://www.investing.com/indices/usdollar-historical-data'#連到'美元指數'查詢網址\n",
    "browser.get(url) #get方式進入網站\n",
    "time.sleep(3) #網站有loading時間\n",
    "\n",
    "#輸入日期\n",
    "browser.find_element_by_id('widgetFieldDateRange').click()\n",
    "time.sleep(3)\n",
    "browser.find_element_by_id('startDate').clear()\n",
    "browser.find_element_by_id('startDate').send_keys('01/22/2020')\n",
    "time.sleep(3)\n",
    "browser.find_element_by_id('endDate').clear()\n",
    "browser.find_element_by_id('endDate').send_keys('04/25/2020')\n",
    "browser.find_element_by_id('endDate').send_keys(Keys.ENTER)\n",
    "time.sleep(5)\n"
   ]
  },
  {
   "cell_type": "code",
   "execution_count": 12,
   "metadata": {},
   "outputs": [
    {
     "name": "stdout",
     "output_type": "stream",
     "text": [
      "index 1\n",
      "index 2\n",
      "index 3\n",
      "index 4\n",
      "index 5\n",
      "index 6\n",
      "index 7\n",
      "index 8\n",
      "index 9\n",
      "index 10\n",
      "index 11\n",
      "index 12\n",
      "index 13\n",
      "index 14\n",
      "index 15\n",
      "index 16\n",
      "index 17\n",
      "index 18\n",
      "index 19\n",
      "index 20\n",
      "index 21\n",
      "index 22\n",
      "index 23\n",
      "index 24\n",
      "index 25\n",
      "index 26\n",
      "index 27\n",
      "index 28\n",
      "index 29\n",
      "index 30\n",
      "index 31\n",
      "index 32\n",
      "index 33\n",
      "index 34\n",
      "index 35\n",
      "index 36\n",
      "index 37\n",
      "index 38\n",
      "index 39\n",
      "index 40\n",
      "index 41\n",
      "index 42\n",
      "index 43\n",
      "index 44\n",
      "index 45\n",
      "index 46\n",
      "index 47\n",
      "index 48\n",
      "index 49\n",
      "index 50\n",
      "index 51\n",
      "index 52\n",
      "index 53\n",
      "index 54\n",
      "index 55\n",
      "index 56\n",
      "index 57\n",
      "index 58\n",
      "index 59\n",
      "index 60\n",
      "index 61\n",
      "index 62\n",
      "index 63\n",
      "index 64\n",
      "index 65\n",
      "index 66\n",
      "index 67\n",
      "index 68\n"
     ]
    }
   ],
   "source": [
    "import csv\n",
    "# (另儲存csv：X 需要) or bs4、pd解析 表格\n",
    "raw_html = browser.page_source\n",
    "# 將 HTML 轉成 BeautifulSoup 物件，這裡使用 html.parser 內建解析器\n",
    "soup = BeautifulSoup(raw_html, 'html.parser')\n",
    "performance_list = []\n",
    "\n",
    "for index in range(1, 69):\n",
    "    print('index', index)\n",
    "    performance_dict = {}\n",
    "    performance_dict['date'] = soup.select(f'#curr_table > tbody > tr:nth-child({index}) > td.first.left.bold.noWrap')[0].text\n",
    "    performance_dict['price'] = float(soup.select(f'#curr_table > tbody > tr:nth-child({index}) > td:nth-child(2)')[0].text)\n",
    "    performance_list.append(performance_dict)\n",
    "headers = ['date', 'price']\n",
    "\n",
    "browser.quit()\n",
    "\n",
    "with open('./us_index.csv', 'w') as output_file:\n",
    "    dict_writer = csv.DictWriter(output_file, headers)\n",
    "    # 寫入標題\n",
    "    dict_writer.writeheader()\n",
    "    # 寫入值\n",
    "    dict_writer.writerows(performance_list)"
   ]
  },
  {
   "cell_type": "code",
   "execution_count": 23,
   "metadata": {},
   "outputs": [],
   "source": [
    "# 變更日期格式\n",
    "import csv\n",
    "import datetime\n",
    "\n",
    "row = csv.reader(open('./us_index.csv'))\n",
    "lines = [i for i in row]\n",
    "#lines\n",
    "for y in range(1, 69):\n",
    "    time_code = datetime.datetime.strptime(lines[y][0], '%b %d, %Y')\n",
    "    lines[y][0] = time_code.strftime('%-m/%-d/%y')\n",
    "    #print(lines[y][0])\n",
    "\n",
    "writer = csv.writer(open('./us_index-01.csv', 'w'))\n",
    "writer.writerows(lines)\n",
    "#type(lines[1][1])"
   ]
  },
  {
   "cell_type": "code",
   "execution_count": null,
   "metadata": {},
   "outputs": [],
   "source": []
  }
 ],
 "metadata": {
  "kernelspec": {
   "display_name": "Python 3",
   "language": "python",
   "name": "python3"
  },
  "language_info": {
   "codemirror_mode": {
    "name": "ipython",
    "version": 3
   },
   "file_extension": ".py",
   "mimetype": "text/x-python",
   "name": "python",
   "nbconvert_exporter": "python",
   "pygments_lexer": "ipython3",
   "version": "3.7.6"
  }
 },
 "nbformat": 4,
 "nbformat_minor": 4
}
