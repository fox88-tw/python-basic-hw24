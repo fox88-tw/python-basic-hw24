{
 "cells": [
  {
   "cell_type": "code",
   "execution_count": 1,
   "metadata": {},
   "outputs": [
    {
     "name": "stdout",
     "output_type": "stream",
     "text": [
      "Collecting selenium\n",
      "  Downloading selenium-3.141.0-py2.py3-none-any.whl (904 kB)\n",
      "\u001b[K     |████████████████████████████████| 904 kB 962 kB/s eta 0:00:01\n",
      "\u001b[?25hRequirement already satisfied: urllib3 in ./opt/anaconda3/lib/python3.7/site-packages (from selenium) (1.25.8)\n",
      "Installing collected packages: selenium\n",
      "Successfully installed selenium-3.141.0\n",
      "Note: you may need to restart the kernel to use updated packages.\n"
     ]
    }
   ],
   "source": [
    "pip install selenium"
   ]
  },
  {
   "cell_type": "code",
   "execution_count": 7,
   "metadata": {},
   "outputs": [],
   "source": [
    "from selenium import webdriver\n",
    "from selenium.webdriver.support.ui import Select\n",
    "from selenium.webdriver.common.keys import Keys\n",
    "import time\n",
    "\n",
    "#初始化啟動chrome webdriver\n",
    "driverpath = './chromedriver' #瀏覽器驅動程式路徑\n",
    "browser = webdriver.Chrome(executable_path = driverpath) #模擬瀏覽器\n",
    "url = 'https://www.investing.com/indices/usdollar-historical-data'#連到'美元指數'查詢網址\n",
    "browser.get(url) #get方式進入網站\n",
    "time.sleep(3) #網站有loading時間\n",
    "\n",
    "#輸入日期\n",
    "browser.find_element_by_id('widgetFieldDateRange').click()\n",
    "time.sleep(3)\n",
    "browser.find_element_by_id('startDate').clear()\n",
    "browser.find_element_by_id('startDate').send_keys('01/01/2020')\n",
    "time.sleep(3)\n",
    "#browser.find_element_by_id('endDate').clear()\n",
    "#browser.find_element_by_id('endDate').send_keys('04/23/2020')\n",
    "browser.find_element_by_id('endDate').send_keys(Keys.ENTER)\n",
    "time.sleep(5)\n",
    "\n",
    "# (另儲存csv：X 需要) or bs4、pd解析 表格"
   ]
  }
 ],
 "metadata": {
  "kernelspec": {
   "display_name": "Python 3",
   "language": "python",
   "name": "python3"
  },
  "language_info": {
   "codemirror_mode": {
    "name": "ipython",
    "version": 3
   },
   "file_extension": ".py",
   "mimetype": "text/x-python",
   "name": "python",
   "nbconvert_exporter": "python",
   "pygments_lexer": "ipython3",
   "version": "3.7.6"
  }
 },
 "nbformat": 4,
 "nbformat_minor": 4
}
